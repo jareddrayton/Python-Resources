{
 "cells": [
  {
   "cell_type": "markdown",
   "metadata": {},
   "source": [
    "- [Real Python](https://realpython.com/python-f-strings/)\n",
    "\n",
    "- [fsrting](https://cito.github.io/blog/f-strings/)\n",
    "\n",
    "- [Python DOc](https://docs.python.org/3/library/string.html)\n"
   ]
  },
  {
   "cell_type": "markdown",
   "metadata": {},
   "source": [
    "# Python 3 String Examples"
   ]
  },
  {
   "cell_type": "code",
   "execution_count": 1,
   "metadata": {},
   "outputs": [
    {
     "name": "stdout",
     "output_type": "stream",
     "text": [
      "This is a string!\n"
     ]
    }
   ],
   "source": [
    "print(\"This is a string!\")"
   ]
  },
  {
   "cell_type": "code",
   "execution_count": 22,
   "metadata": {},
   "outputs": [
    {
     "name": "stdout",
     "output_type": "stream",
     "text": [
      "aaaaa\n",
      "edabitedabitedabitedabitedabit\n"
     ]
    }
   ],
   "source": [
    "# You can use strings with operators\n",
    "print(5 * \"a\")\n",
    "\n",
    "the = \"edabit\"\n",
    "list\n",
    "print(5 * the)"
   ]
  },
  {
   "cell_type": "code",
   "execution_count": 19,
   "metadata": {},
   "outputs": [
    {
     "name": "stdout",
     "output_type": "stream",
     "text": [
      "adwd akhd\n"
     ]
    }
   ],
   "source": []
  },
  {
   "cell_type": "markdown",
   "metadata": {},
   "source": [
    "## Examples of string formatting using .format()"
   ]
  },
  {
   "cell_type": "code",
   "execution_count": 25,
   "metadata": {},
   "outputs": [
    {
     "name": "stdout",
     "output_type": "stream",
     "text": [
      "c, b, a\n",
      "c, b, a\n",
      "f, e, d\n",
      "c, b, a\n"
     ]
    }
   ],
   "source": [
    "# You can unpack an iterable using *\n",
    "print('{2}, {1}, {0}'.format(*'abc'))\n",
    "\n",
    "abc = 'abc'\n",
    "print('{2}, {1}, {0}'.format(*abc))\n",
    "\n",
    "abc = ['d', 'e', 'f']\n",
    "print('{2}, {1}, {0}'.format(*abc))\n",
    "\n",
    "# Iterables don't have to equal the number of arguments used, but they must not reference  \n",
    "print('{2}, {1}, {0}'.format(*'abca'))\n"
   ]
  },
  {
   "cell_type": "code",
   "execution_count": 14,
   "metadata": {},
   "outputs": [
    {
     "data": {
      "text/plain": [
       "['This', 'is', 'a', 'test']"
      ]
     },
     "execution_count": 14,
     "metadata": {},
     "output_type": "execute_result"
    }
   ],
   "source": [
    "txt = \"This is a test\"\n",
    "txt.split()"
   ]
  },
  {
   "cell_type": "markdown",
   "metadata": {},
   "source": [
    "## Examples of string formatting using f-strings"
   ]
  },
  {
   "cell_type": "code",
   "execution_count": 27,
   "metadata": {},
   "outputs": [
    {
     "name": "stdout",
     "output_type": "stream",
     "text": [
      "adwd akhd\n",
      "adwd akhd\n"
     ]
    }
   ],
   "source": [
    "test = \"akhd\"\n",
    "print(f\"adwd {test}\")\n",
    "a = f\"adwd {test}\"\n",
    "print(a)"
   ]
  }
 ],
 "metadata": {
  "kernelspec": {
   "display_name": "Python 3",
   "language": "python",
   "name": "python3"
  },
  "language_info": {
   "codemirror_mode": {
    "name": "ipython",
    "version": 3
   },
   "file_extension": ".py",
   "mimetype": "text/x-python",
   "name": "python",
   "nbconvert_exporter": "python",
   "pygments_lexer": "ipython3",
   "version": "3.6.4"
  }
 },
 "nbformat": 4,
 "nbformat_minor": 2
}

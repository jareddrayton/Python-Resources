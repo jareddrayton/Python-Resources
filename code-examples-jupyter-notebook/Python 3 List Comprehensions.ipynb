{
 "cells": [
  {
   "cell_type": "markdown",
   "metadata": {},
   "source": [
    "# Python 3 List Comprehensions"
   ]
  },
  {
   "cell_type": "code",
   "execution_count": null,
   "metadata": {},
   "outputs": [],
   "source": [
    "# Find even or odd numbers in a list \n",
    "\n",
    "lst = [23, 345, 22, 34, 113, 36 ,545, 2]\n",
    "\n",
    "print([n for n in lst if n%2 == 0])\n",
    "print([n for n in lst if n%2 != 0])"
   ]
  },
  {
   "cell_type": "code",
   "execution_count": null,
   "metadata": {},
   "outputs": [],
   "source": [
    "# Make sequences of integers\n",
    "\n",
    "print([x for x in range(10)])\n",
    "\n",
    "print([x for x in range(10, 0, -2)])\n",
    "\n",
    "print([x for x in range(1,20) if x%2 ==0])"
   ]
  },
  {
   "cell_type": "code",
   "execution_count": null,
   "metadata": {},
   "outputs": [],
   "source": [
    "# Sequences of powers\n",
    "\n",
    "print([n**2 for n in range(10)])\n",
    "print([n**3 for n in range(10)])"
   ]
  },
  {
   "cell_type": "code",
   "execution_count": null,
   "metadata": {},
   "outputs": [],
   "source": []
  }
 ],
 "metadata": {
  "kernelspec": {
   "display_name": "Python 3",
   "language": "python",
   "name": "python3"
  },
  "language_info": {
   "codemirror_mode": {
    "name": "ipython",
    "version": 3
   },
   "file_extension": ".py",
   "mimetype": "text/x-python",
   "name": "python",
   "nbconvert_exporter": "python",
   "pygments_lexer": "ipython3",
   "version": "3.6.4"
  }
 },
 "nbformat": 4,
 "nbformat_minor": 2
}

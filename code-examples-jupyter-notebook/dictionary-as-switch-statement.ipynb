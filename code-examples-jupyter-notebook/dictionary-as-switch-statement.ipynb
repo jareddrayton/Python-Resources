{
 "cells": [
  {
   "cell_type": "markdown",
   "metadata": {},
   "source": [
    "https://softwareengineering.stackexchange.com/questions/182093/why-store-a-function-inside-a-python-dictionary/182095\n",
    "https://www.reddit.com/r/learnpython/comments/gjo74e/is_it_possible_to_map_functions_as_values_in_a/\n",
    "https://stackoverflow.com/questions/9168340/using-a-dictionary-to-select-function-to-execute"
   ]
  }
 ],
 "metadata": {
  "kernelspec": {
   "display_name": "Python 3.6.4 32-bit",
   "language": "python",
   "name": "python36432bit1ab04e83ff0a419f815752278ad8527e"
  },
  "language_info": {
   "codemirror_mode": {
    "name": "ipython",
    "version": 3
   },
   "file_extension": ".py",
   "mimetype": "text/x-python",
   "name": "python",
   "nbconvert_exporter": "python",
   "pygments_lexer": "ipython3",
   "version": "3.6.4"
  }
 },
 "nbformat": 4,
 "nbformat_minor": 2
}

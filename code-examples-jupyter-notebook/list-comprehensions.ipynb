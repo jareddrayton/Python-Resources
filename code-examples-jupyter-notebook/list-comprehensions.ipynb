{
 "cells": [
  {
   "cell_type": "markdown",
   "metadata": {},
   "source": [
    "# Python 3 List Comprehensions"
   ]
  },
  {
   "cell_type": "code",
   "execution_count": null,
   "metadata": {},
   "outputs": [],
   "source": [
    "# Find even or odd numbers in a list \n",
    "\n",
    "lst = [23, 345, 22, 34, 113, 36 ,545, 2]\n",
    "\n",
    "print([n for n in lst if n%2 == 0])\n",
    "print([n for n in lst if n%2 != 0])"
   ]
  },
  {
   "cell_type": "code",
   "execution_count": null,
   "metadata": {},
   "outputs": [],
   "source": [
    "# Make sequences of integers\n",
    "\n",
    "print([x for x in range(10)])\n",
    "\n",
    "print([x for x in range(10, 0, -2)])\n",
    "\n",
    "print([x for x in range(1,20) if x%2 ==0])"
   ]
  },
  {
   "cell_type": "code",
   "execution_count": null,
   "metadata": {},
   "outputs": [],
   "source": [
    "# Sequences of powers\n",
    "\n",
    "print([n**2 for n in range(10)])\n",
    "print([n**3 for n in range(10)])"
   ]
  },
  {
   "cell_type": "code",
   "execution_count": null,
   "metadata": {},
   "outputs": [],
   "source": [
    "# flattening lists of lists\n",
    "\n",
    "#The list of lists\n",
    "list_of_lists = [range(4), range(4), range(4)]\n",
    "print(\"List if Lists\")\n",
    "print(list_of_lists)\n",
    "\n",
    "#flatten the lists\n",
    "flattened_list = [y for x in list_of_lists for y in x]\n",
    "\n",
    "print(flattened_list)\n",
    "\n",
    "flattened_list = [y for x in list_of_lists for y in x]\n",
    "\n",
    "print(flattened_list)\n",
    "\n",
    "print(flattened_list[0::4])\n",
    "\n",
    "a = []\n",
    "\n",
    "for i in range(4):\n",
    "    a.append(flattened_list[i::4])\n",
    "    \n",
    "print(a)\n",
    "    \n",
    "    "
   ]
  },
  {
   "cell_type": "code",
   "execution_count": null,
   "metadata": {},
   "outputs": [],
   "source": [
    "list_of_lists = [[0, 1, 2], [0, 1, 2], [0, 1, 2], [0, 1, 2],]\n",
    "print(list_of_lists)\n",
    "\n",
    "flattened_list = [y for x in list_of_lists for y in x]\n",
    "print(flattened_list)\n",
    "\n",
    "rearranged_list = []\n",
    "\n",
    "for i in range(3):\n",
    "    rearranged_list.append(flattened_list[i::3])\n",
    "    \n",
    "print(rearranged_list)"
   ]
  },
  {
   "cell_type": "code",
   "execution_count": null,
   "metadata": {},
   "outputs": [],
   "source": [
    "list_of_lists = [[0, 1, 2], [0, 1, 2], [0, 1, 2], [0, 1, 2],]"
   ]
  },
  {
   "cell_type": "code",
   "execution_count": null,
   "metadata": {},
   "outputs": [],
   "source": [
    "# flip list\n",
    "\n",
    "[[seats[i][j] for i in range(len(seats))] for j in range(len(seats[0]))]"
   ]
  }
 ],
 "metadata": {
  "kernelspec": {
   "display_name": "Python 3",
   "language": "python",
   "name": "python3"
  },
  "language_info": {
   "codemirror_mode": {
    "name": "ipython",
    "version": 3
   },
   "file_extension": ".py",
   "mimetype": "text/x-python",
   "name": "python",
   "nbconvert_exporter": "python",
   "pygments_lexer": "ipython3",
   "version": "3.6.4"
  }
 },
 "nbformat": 4,
 "nbformat_minor": 2
}
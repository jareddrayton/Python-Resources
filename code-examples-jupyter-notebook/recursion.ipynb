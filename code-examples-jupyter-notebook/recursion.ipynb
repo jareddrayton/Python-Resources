{
 "cells": [
  {
   "cell_type": "markdown",
   "metadata": {},
   "source": [
    "# Python 3 Recursion Examples\n",
    "\n",
    "- [Real Python - Thinking Recursively](https://realpython.com/python-thinking-recursively/)\n",
    "- [Recursion? We don't need no stinking recursion!](http://raganwald.com/2018/05/20/we-dont-need-no-stinking-recursion.html)"
   ]
  },
  {
   "cell_type": "code",
   "execution_count": 4,
   "metadata": {},
   "outputs": [
    {
     "name": "stdout",
     "output_type": "stream",
     "text": [
      "55\n"
     ]
    }
   ],
   "source": [
    "def adder(n):\n",
    "    # Base Case\n",
    "    if n == 1:\n",
    "        return 1\n",
    "\n",
    "    else:\n",
    "        return n + adder(n-1)\n",
    "\n",
    "print(adder(10))"
   ]
  },
  {
   "cell_type": "code",
   "execution_count": 5,
   "metadata": {},
   "outputs": [
    {
     "name": "stdout",
     "output_type": "stream",
     "text": [
      "3628800\n"
     ]
    }
   ],
   "source": [
    "def factorial(n):\n",
    "    # Base Case\n",
    "    if n == 1:\n",
    "        return 1\n",
    "\n",
    "    else:\n",
    "        return n * factorial(n-1)\n",
    "    \n",
    "print(factorial(10))"
   ]
  },
  {
   "cell_type": "code",
   "execution_count": 2,
   "metadata": {},
   "outputs": [
    {
     "name": "stdout",
     "output_type": "stream",
     "text": [
      "[38173, 53509, 48413, 54361, 43892, 26503, 46245, 36097]\n"
     ]
    }
   ],
   "source": [
    "# Example adapted from advent of code challenge 2019 Day 1\n",
    "\n",
    "modules = [76412, 107084, 96893, 108787, 87847, 53066, 92555,72252]\n",
    "\n",
    "def mass_rec(mass):\n",
    "\n",
    "    mass = int(mass / 3.0)\n",
    "    mass -= 2\n",
    "    # Bass case\n",
    "    if mass < 0:\n",
    "        return 0\n",
    "\n",
    "    # Recursive case\n",
    "    return mass + mass_rec(mass)\n",
    "\n",
    "fuel_rec = list(map(mass_rec, modules))\n",
    "\n",
    "print(fuel_rec)"
   ]
  },
  {
   "cell_type": "markdown",
   "metadata": {},
   "source": [
    "https://nedbatchelder.com/blog/201812/a_thing_i_learned_about_python_recursion.html"
   ]
  },
  {
   "cell_type": "markdown",
   "metadata": {},
   "source": [
    "https://www.youtube.com/watch?v=AfBqVVKg4GE"
   ]
  }
 ],
 "metadata": {
  "kernelspec": {
   "display_name": "Python 3",
   "language": "python",
   "name": "python3"
  },
  "language_info": {
   "codemirror_mode": {
    "name": "ipython",
    "version": 3
   },
   "file_extension": ".py",
   "mimetype": "text/x-python",
   "name": "python",
   "nbconvert_exporter": "python",
   "pygments_lexer": "ipython3",
   "version": "3.6.4"
  }
 },
 "nbformat": 4,
 "nbformat_minor": 2
}

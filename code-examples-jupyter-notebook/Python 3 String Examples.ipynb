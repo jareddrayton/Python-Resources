{
 "cells": [
  {
   "cell_type": "markdown",
   "metadata": {},
   "source": [
    "- [Real Python](https://realpython.com/python-f-strings/)\n",
    "\n",
    "- [fsrting](https://cito.github.io/blog/f-strings/)\n",
    "\n",
    "- [Python DOc](https://docs.python.org/3/library/string.html)"
   ]
  },
  {
   "cell_type": "markdown",
   "metadata": {},
   "source": [
    "# Python 3 String Examples"
   ]
  },
  {
   "cell_type": "code",
   "execution_count": 1,
   "metadata": {},
   "outputs": [
    {
     "name": "stdout",
     "output_type": "stream",
     "text": [
      "This is a string!\n"
     ]
    }
   ],
   "source": [
    "print(\"This is a string!\")"
   ]
  },
  {
   "cell_type": "code",
   "execution_count": 2,
   "metadata": {},
   "outputs": [
    {
     "name": "stdout",
     "output_type": "stream",
     "text": [
      "Multiplication: aaaaa\n",
      "Addition: ab\n",
      "testtesttesttesttest\n"
     ]
    }
   ],
   "source": [
    "# You can use strings with operators\n",
    "print(\"Multiplication:\", 5 * \"a\")\n",
    "print(\"Addition:\", 'a' + 'b')\n",
    "\n",
    "aword = \"test\"\n",
    "print(5 * aword)"
   ]
  },
  {
   "cell_type": "code",
   "execution_count": 5,
   "metadata": {},
   "outputs": [
    {
     "output_type": "stream",
     "name": "stdout",
     "text": "2\t3\t6\t24\t2\n12\t3\t5\t1230\t2\n"
    }
   ],
   "source": [
    "# Tab speced tables using sep\n",
    "\n",
    "array = [2,3,6,24,2]\n",
    "array2= [12,3,5,1230,2]\n",
    "\n",
    "print(*array, sep='\\t')\n",
    "print(*array2, sep='\\t')"
   ]
  },
  {
   "cell_type": "code",
   "execution_count": 7,
   "metadata": {},
   "outputs": [
    {
     "output_type": "stream",
     "name": "stdout",
     "text": "['Maavis', 'Senaidda', 'Letty']\n"
    }
   ],
   "source": [
    "# Capitalize a list of strings\n",
    "lst = [\"mAAvis\", \"senaiDda\", \"letty\"]\n",
    "\n",
    "print([item.capitalize() for item in lst])"
   ]
  },
  {
   "cell_type": "code",
   "execution_count": 5,
   "metadata": {},
   "outputs": [
    {
     "name": "stdout",
     "output_type": "stream",
     "text": [
      "hello\n",
      "olleh\n",
      "olleh\n"
     ]
    }
   ],
   "source": [
    "# Reversing a string using slices\n",
    "test = \"hello\"\n",
    "print(test)\n",
    "print(test[::-1])\n",
    "\n",
    "print(''.join(reversed(test)))"
   ]
  },
  {
   "cell_type": "markdown",
   "metadata": {},
   "source": [
    "## Examples of string formatting using .format()"
   ]
  },
  {
   "cell_type": "code",
   "execution_count": 6,
   "metadata": {},
   "outputs": [
    {
     "name": "stdout",
     "output_type": "stream",
     "text": [
      "c, b, a\n",
      "c, b, a\n",
      "f, e, d\n",
      "c, b, a\n"
     ]
    }
   ],
   "source": [
    "# You can unpack an iterable using *\n",
    "print('{2}, {1}, {0}'.format(*'abc'))\n",
    "\n",
    "abc = 'abc'\n",
    "print('{2}, {1}, {0}'.format(*abc))\n",
    "\n",
    "abc = ['d', 'e', 'f']\n",
    "print('{2}, {1}, {0}'.format(*abc))\n",
    "\n",
    "# Iterables don't have to equal the number of arguments used, but they must not reference  \n",
    "print('{2}, {1}, {0}'.format(*'abca'))\n"
   ]
  },
  {
   "cell_type": "code",
   "execution_count": 1,
   "metadata": {},
   "outputs": [
    {
     "name": "stdout",
     "output_type": "stream",
     "text": [
      "f    ,   e  ,     d\n"
     ]
    }
   ],
   "source": [
    "# Basic allignment\n",
    "\n",
    "abc = 'def'\n",
    "print('{2:<5}, {1:^5}, {0:>5}'.format(*abc))"
   ]
  },
  {
   "cell_type": "code",
   "execution_count": 7,
   "metadata": {},
   "outputs": [
    {
     "data": {
      "text/plain": [
       "['This', 'is', 'a', 'test']"
      ]
     },
     "execution_count": 7,
     "metadata": {},
     "output_type": "execute_result"
    }
   ],
   "source": [
    "txt = \"This is a test\"\n",
    "txt.split()"
   ]
  },
  {
   "cell_type": "markdown",
   "metadata": {},
   "source": [
    "## Examples of string formatting using f-strings"
   ]
  },
  {
   "cell_type": "code",
   "execution_count": 9,
   "metadata": {},
   "outputs": [
    {
     "output_type": "stream",
     "name": "stdout",
     "text": "adwd akhd\nadwd akhd\n8\n"
    }
   ],
   "source": [
    "test = \"akhd\"\n",
    "print(f\"adwd {test}\")\n",
    "a = f\"adwd {test}\"\n",
    "print(a)\n",
    "a = f\"{4*2}\"\n",
    "print(a)"
   ]
  }
 ],
 "metadata": {
  "kernelspec": {
   "display_name": "Python 3",
   "language": "python",
   "name": "python3"
  },
  "language_info": {
   "codemirror_mode": {
    "name": "ipython",
    "version": 3
   },
   "file_extension": ".py",
   "mimetype": "text/x-python",
   "name": "python",
   "nbconvert_exporter": "python",
   "pygments_lexer": "ipython3",
   "version": "3.6.4-final"
  }
 },
 "nbformat": 4,
 "nbformat_minor": 2
}
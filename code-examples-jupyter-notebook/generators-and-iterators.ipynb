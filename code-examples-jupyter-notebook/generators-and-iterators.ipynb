{
 "cells": [
  {
   "cell_type": "markdown",
   "metadata": {},
   "source": [
    "## Resources"
   ]
  },
  {
   "cell_type": "markdown",
   "metadata": {},
   "source": [
    "##### Python Documentation\n",
    "\n",
    "https://wiki.python.org/moin/Generators\n",
    "\n",
    "https://www.python.org/dev/peps/pep-0255/\n",
    "\n",
    "https://www.python.org/dev/peps/pep-0289/\n",
    "\n",
    "\n",
    "#### Posts\n",
    "\n",
    "[How to Use Generators and yield in Python](https://realpython.com/introduction-to-python-generators/)\n",
    "\n",
    "[Improve Your Python: 'yield' and Generators Explained](https://jeffknupp.com/blog/2013/04/07/improve-your-python-yield-and-generators-explained/)\n",
    "\n",
    "[How — and why — you should use Python Generators](https://www.freecodecamp.org/news/how-and-why-you-should-use-python-generators-f6fb56650888/)\n",
    "\n",
    "##### Dan Bader Posts\n",
    "\n",
    "https://dbader.org/blog/python-iterators\n",
    "\n",
    "https://dbader.org/blog/python-generators\n",
    "\n",
    "https://dbader.org/blog/python-generator-expressions\n",
    "\n",
    "\n",
    "##### Videos \n",
    "\n",
    "[Ned Batchelor - Loop like a native: while, for, iterators, generators](https://www.youtube.com/watch?v=EnSu9hHGq5o)\n",
    "\n",
    "[Trey Hunner - Loop better: a deeper look at iteration in Python](https://www.youtube.com/watch?v=JYuE8ZiDPl4)\n",
    "\n",
    "[James Powell - Generators Will Free Your Mind](https://www.youtube.com/watch?v=RdhoN4VVqq8)\n",
    "\n",
    "[David Beazley - PyCon'2014 tutorial \"Generators the Final Frontier\"](https://www.youtube.com/watch?v=5-qadlG7tWo)\n",
    "\n",
    "[James Powell - More About Generators](https://www.youtube.com/watch?v=m6asOJmfGpY)\n",
    "\n",
    "Even though generators can give great memory improvements they are still not as fast as using something like a numpy array in most cases.\n",
    "They can be better harnessed as a mechanism for structuring orchestration of a program."
   ]
  },
  {
   "cell_type": "markdown",
   "metadata": {},
   "source": [
    "## List Comprehension Vs Generator Expression"
   ]
  },
  {
   "cell_type": "code",
   "execution_count": 1,
   "metadata": {},
   "outputs": [
    {
     "name": "stdout",
     "output_type": "stream",
     "text": [
      "270 µs ± 9.84 µs per loop (mean ± std. dev. of 7 runs, 1000 loops each)\n"
     ]
    }
   ],
   "source": [
    "%%timeit -n 1000\n",
    "\n",
    "for power in [i**2 for i in range(1000)]:\n",
    "    if power > 1000:\n",
    "        break"
   ]
  },
  {
   "cell_type": "code",
   "execution_count": 2,
   "metadata": {},
   "outputs": [
    {
     "name": "stdout",
     "output_type": "stream",
     "text": [
      "11.5 µs ± 202 ns per loop (mean ± std. dev. of 7 runs, 1000 loops each)\n"
     ]
    }
   ],
   "source": [
    "%%timeit -n 1000\n",
    "\n",
    "def powers(n):\n",
    "    k = 0\n",
    "    while k < n:\n",
    "        yield k ** 2\n",
    "        k += 1\n",
    "\n",
    "for power in powers(1000):\n",
    "    if power > 1000:\n",
    "        break"
   ]
  },
  {
   "cell_type": "code",
   "execution_count": 3,
   "metadata": {},
   "outputs": [
    {
     "name": "stdout",
     "output_type": "stream",
     "text": [
      "10.3 µs ± 460 ns per loop (mean ± std. dev. of 7 runs, 1000 loops each)\n"
     ]
    }
   ],
   "source": [
    "%%timeit -n 1000\n",
    "\n",
    "for power in (i**2 for i in range(1000)):\n",
    "    if power > 1000:\n",
    "        break"
   ]
  },
  {
   "cell_type": "code",
   "execution_count": 4,
   "metadata": {},
   "outputs": [
    {
     "name": "stdout",
     "output_type": "stream",
     "text": [
      "[0, 1, 2, 3, 4, 5, 6, 7, 8, 9]\n",
      "<generator object <genexpr> at 0x055D5E40>\n"
     ]
    }
   ],
   "source": [
    "a_list_comprehension = [i for i in range(10)]\n",
    "a_generator_experssion = (i for i in range(10))\n",
    "\n",
    "print(a_list_comprehension)\n",
    "print(a_generator_experssion)"
   ]
  }
 ],
 "metadata": {
  "kernelspec": {
   "display_name": "Python 3.6.4 32-bit",
   "language": "python",
   "name": "python36432bit1ab04e83ff0a419f815752278ad8527e"
  },
  "language_info": {
   "codemirror_mode": {
    "name": "ipython",
    "version": 3
   },
   "file_extension": ".py",
   "mimetype": "text/x-python",
   "name": "python",
   "nbconvert_exporter": "python",
   "pygments_lexer": "ipython3",
   "version": "3.6.4"
  }
 },
 "nbformat": 4,
 "nbformat_minor": 2
}

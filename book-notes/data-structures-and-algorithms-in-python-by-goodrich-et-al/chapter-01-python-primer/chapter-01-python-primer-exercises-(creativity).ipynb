{
 "cells": [
  {
   "cell_type": "markdown",
   "metadata": {},
   "source": [
    "### Chapter 1 - Python Primer - Exercises Creativity "
   ]
  },
  {
   "cell_type": "markdown",
   "metadata": {},
   "source": [
    "#### C-1.13"
   ]
  },
  {
   "cell_type": "code",
   "execution_count": 1,
   "metadata": {},
   "outputs": [
    {
     "name": "stdout",
     "output_type": "stream",
     "text": [
      "[6, 2, 7, 4] 94969088\n",
      "[4, 7, 2, 6] 94969088\n",
      "[4, 7, 2, 6] 94969088\n",
      "[6, 2, 7, 4] 94493192\n"
     ]
    }
   ],
   "source": [
    "# Uses the reversed() function to return create an iterator, and use in list comp to return new list\n",
    "\n",
    "def simple_reverse(data):\n",
    "    return [i for i in reversed(data)]\n",
    "\n",
    "assert simple_reverse([2, 6, 3]) == [3, 6, 2]\n",
    "\n",
    "# List class method that reverses in place\n",
    "\n",
    "a = [6,2,7,4]\n",
    "print(a, id(a))\n",
    "a.reverse()\n",
    "print(a, id(a))\n",
    "\n",
    "# String slicing that returns a new list\n",
    "\n",
    "print(a, id(a))\n",
    "a = a[::-1]\n",
    "print(a, id(a))"
   ]
  },
  {
   "cell_type": "markdown",
   "metadata": {},
   "source": [
    "#### C-1.14"
   ]
  },
  {
   "cell_type": "code",
   "execution_count": 2,
   "metadata": {},
   "outputs": [],
   "source": [
    "def distinct_odd_pair(data):\n",
    "    slide = 1\n",
    "    for i in range(len(data)):\n",
    "        for j in range(slide, len(data)):\n",
    "            if data[i] * data[j] % 2 != 0:\n",
    "                slide += 1\n",
    "                return True\n",
    "    return False\n",
    "\n",
    "assert distinct_odd_pair([2,6,4,10,8]) == False\n",
    "assert distinct_odd_pair([2,6,3,10,7]) == True"
   ]
  },
  {
   "cell_type": "markdown",
   "metadata": {},
   "source": [
    "#### C-1.15"
   ]
  },
  {
   "cell_type": "code",
   "execution_count": 3,
   "metadata": {},
   "outputs": [],
   "source": [
    "def distinct_list(data):\n",
    "    return len(set(data)) == len(data)\n",
    "\n",
    "assert distinct_list([1,2,3,4,5]) == True\n",
    "assert distinct_list([1,2,3,3,5]) == False"
   ]
  },
  {
   "cell_type": "markdown",
   "metadata": {},
   "source": [
    "#### C-1.16"
   ]
  },
  {
   "cell_type": "code",
   "execution_count": 3,
   "metadata": {},
   "outputs": [
    {
     "output_type": "stream",
     "name": "stdout",
     "text": [
      "[12, 24, 16]\n[12, 24, 16]\n"
     ]
    }
   ],
   "source": [
    "a = [3,6,4]\n",
    "\n",
    "def scale(data, factor):\n",
    "    for j in range(len(data)):\n",
    "        data[j] *= factor\n",
    "    \n",
    "scale(a, 4)\n",
    "\n",
    "print(a)\n",
    "\n",
    "b = [3,6,4]\n",
    "\n",
    "def scale_other(data, factor):\n",
    "    for j in range(len(data)):\n",
    "        data[j] = data[j] * factor\n",
    "\n",
    "scale_other(b, 4)\n",
    "\n",
    "print(b)\n"
   ]
  },
  {
   "cell_type": "markdown",
   "metadata": {},
   "source": [
    "#### C-1.17"
   ]
  },
  {
   "cell_type": "code",
   "execution_count": 9,
   "metadata": {},
   "outputs": [
    {
     "output_type": "stream",
     "name": "stdout",
     "text": [
      "[5, 10, 15]\n[1, 2, 3]\n"
     ]
    }
   ],
   "source": [
    "# Original implementation\n",
    "\n",
    "def scale(data, factor):\n",
    "    for j in range(len(data)):\n",
    "        data[j] *= factor\n",
    "    return data\n",
    "\n",
    "print(scale([1,2,3], 5))\n",
    "\n",
    "# Modified implementation\n",
    "# This implementation doesn't work as the val\n",
    "# variable is a new variable and not referencing the\n",
    "# data list \n",
    "\n",
    "def scale_modified(data, factor):\n",
    "    for val in data:\n",
    "        val *= factor\n",
    "    return data\n",
    "        \n",
    "print(scale_modified([1,2,3], 5))"
   ]
  },
  {
   "cell_type": "markdown",
   "metadata": {},
   "source": [
    "#### C-1.18"
   ]
  },
  {
   "cell_type": "code",
   "execution_count": 6,
   "metadata": {},
   "outputs": [
    {
     "data": {
      "text/plain": [
       "[0, 2, 6, 12, 20, 30, 42, 56, 72, 90]"
      ]
     },
     "execution_count": 6,
     "metadata": {},
     "output_type": "execute_result"
    }
   ],
   "source": [
    "[i + i**2 for i in range(10)]"
   ]
  },
  {
   "cell_type": "markdown",
   "metadata": {},
   "source": [
    "#### C-1.19"
   ]
  },
  {
   "cell_type": "code",
   "execution_count": 7,
   "metadata": {},
   "outputs": [
    {
     "name": "stdout",
     "output_type": "stream",
     "text": [
      "a b c d e f g h i j k l m n o p q r s t u v w x y z\n"
     ]
    }
   ],
   "source": [
    "print(*[chr(i) for i in range(97, 123)])"
   ]
  },
  {
   "cell_type": "markdown",
   "metadata": {},
   "source": [
    "#### C-1.20"
   ]
  },
  {
   "cell_type": "code",
   "execution_count": 8,
   "metadata": {},
   "outputs": [
    {
     "data": {
      "text/plain": [
       "[1, 4, 2, 5, 3]"
      ]
     },
     "execution_count": 8,
     "metadata": {},
     "output_type": "execute_result"
    }
   ],
   "source": [
    "from random import randint\n",
    "\n",
    "numbers = [1,2,3,4,5]\n",
    "\n",
    "def shuffle(data):\n",
    "    \n",
    "    seq = []\n",
    "    \n",
    "    while len(seq) < len(data):\n",
    "        index = randint(0, len(data)-1)\n",
    "        if index not in seq:\n",
    "            seq.append(index)\n",
    "    \n",
    "    return [data[i] for i in seq]\n",
    "\n",
    "shuffle(numbers)"
   ]
  },
  {
   "cell_type": "markdown",
   "metadata": {},
   "source": [
    "#### C-1.21"
   ]
  },
  {
   "cell_type": "code",
   "execution_count": 4,
   "metadata": {},
   "outputs": [
    {
     "output_type": "stream",
     "name": "stdout",
     "text": "w \n"
    }
   ],
   "source": [
    "a = input()\n",
    "b = input()\n",
    "\n",
    "print(a,b)"
   ]
  },
  {
   "cell_type": "markdown",
   "metadata": {},
   "source": [
    "#### C-1.22"
   ]
  },
  {
   "cell_type": "code",
   "execution_count": 9,
   "metadata": {},
   "outputs": [],
   "source": [
    "def dot_product(a, b):\n",
    "    return [i*j for i,j in zip(a,b)]\n",
    "\n",
    "assert dot_product([7, 3, 5], [2, 4, 3]) == [14, 12, 15]"
   ]
  },
  {
   "cell_type": "markdown",
   "metadata": {},
   "source": [
    "#### C-1.23"
   ]
  },
  {
   "cell_type": "code",
   "execution_count": 10,
   "metadata": {},
   "outputs": [
    {
     "name": "stdout",
     "output_type": "stream",
     "text": [
      "Don’t try buffer overflow attacks in Python!\n"
     ]
    }
   ],
   "source": [
    "lst = [1,4,2]\n",
    "\n",
    "try:\n",
    "    lst[3] = 4\n",
    "except IndexError:\n",
    "    print(\"Don’t try buffer overflow attacks in Python!\")"
   ]
  },
  {
   "cell_type": "markdown",
   "metadata": {},
   "source": [
    "##### C-1.24"
   ]
  },
  {
   "cell_type": "code",
   "execution_count": 11,
   "metadata": {},
   "outputs": [],
   "source": [
    "def count_vowels(s):\n",
    "    vowels = [\"a\", \"e\", \"i\", \"o\", \"u\"]\n",
    "    count = 0\n",
    "    \n",
    "    for c in s:\n",
    "        if c in vowels:\n",
    "            count += 1\n",
    "    return count\n",
    "\n",
    "assert count_vowels(\"jared drayton\") == 4"
   ]
  },
  {
   "cell_type": "markdown",
   "metadata": {},
   "source": [
    "#### C-1.25"
   ]
  },
  {
   "cell_type": "code",
   "execution_count": 12,
   "metadata": {},
   "outputs": [
    {
     "data": {
      "text/plain": [
       "'Lets try Mike'"
      ]
     },
     "execution_count": 12,
     "metadata": {},
     "output_type": "execute_result"
    }
   ],
   "source": [
    "dct = {ord(\"'\"): None, ord(\".\"): None, ord(\",\"): None}\n",
    "\n",
    "\"Let's try, Mike.\".translate(dct)"
   ]
  },
  {
   "cell_type": "markdown",
   "metadata": {},
   "source": [
    "#### C-1.26"
   ]
  },
  {
   "cell_type": "code",
   "execution_count": 13,
   "metadata": {},
   "outputs": [
    {
     "name": "stdout",
     "output_type": "stream",
     "text": [
      "1 + 4 = 3 is  False\n",
      "1 = 4 - 3 is  True\n",
      "1 * 4 = 3 is  False\n"
     ]
    }
   ],
   "source": [
    "def correct_formula(a, b, c):\n",
    "    print(f\"{a} + {b} = {c} is \", a + b == c)\n",
    "    print(f\"{a} = {b} - {c} is \", a == b - c)\n",
    "    print(f\"{a} * {b} = {c} is \", a * b == c)\n",
    "\n",
    "correct_formula(1,4,3)"
   ]
  },
  {
   "cell_type": "markdown",
   "metadata": {},
   "source": [
    "#### C-1.27"
   ]
  },
  {
   "cell_type": "code",
   "execution_count": 8,
   "metadata": {},
   "outputs": [
    {
     "output_type": "stream",
     "name": "stdout",
     "text": [
      "1\n100\n2\n50\n4\n25\n5\n20\n10\n\n1\n2\n4\n5\n10\n20\n25\n50\n100\nCPU times: user 60 µs, sys: 32 µs, total: 92 µs\nWall time: 92.3 µs\nCPU times: user 60 µs, sys: 31 µs, total: 91 µs\nWall time: 92.7 µs\n49 49\n"
     ]
    }
   ],
   "source": [
    "## Original implementation not monotonic.\n",
    "def factors(n):\n",
    "    k = 1\n",
    "    while k * k < n:\n",
    "        if n % k == 0:\n",
    "            yield k\n",
    "            yield n // k\n",
    "        k += 1\n",
    "    if k * k == n:\n",
    "        yield k\n",
    "\n",
    "# Modified generator that returns factors in ascending order\n",
    "# is probably more efficent memory wise but only by halving \n",
    "# the memory usage. I don't think this is quite what the authors\n",
    "# are asking for\n",
    "\n",
    "def factors_modified(n): \n",
    "    k = 1\n",
    "    factors_buffer = []\n",
    "    while k * k < n: # while k < sqrt(n)\n",
    "        if n % k == 0:\n",
    "            factors_buffer.append(n // k)\n",
    "            yield k\n",
    "        k += 1\n",
    "    if k * k == n: # special case if n is perfect square\n",
    "        yield k\n",
    "    for i in reversed(factors_buffer):\n",
    "        yield i\n",
    "\n",
    "for i in factors(100):\n",
    "    print(i)\n",
    "\n",
    "print()\n",
    "\n",
    "for i in factors_modified(100):\n",
    "    print(i)\n",
    "\n",
    "%time a = [i for i in factors(1000000)]\n",
    "%time b = [i for i in factors_modified(1000000)]\n"
   ]
  },
  {
   "cell_type": "markdown",
   "metadata": {},
   "source": [
    "#### C-1.28"
   ]
  },
  {
   "cell_type": "code",
   "execution_count": 14,
   "metadata": {},
   "outputs": [],
   "source": [
    "def p_norm(vector, norm):\n",
    "    return sum([v**norm for v in vector]) ** (1/norm)\n",
    "\n",
    "assert p_norm([4,3], 2) == 5.0"
   ]
  }
 ],
 "metadata": {
  "kernelspec": {
   "name": "Python 3.8.5 64-bit",
   "display_name": "Python 3.8.5 64-bit",
   "metadata": {
    "interpreter": {
     "hash": "31f2aee4e71d21fbe5cf8b01ff0e069b9275f58929596ceb00d14d90e3e16cd6"
    }
   }
  },
  "language_info": {
   "codemirror_mode": {
    "name": "ipython",
    "version": 3
   },
   "file_extension": ".py",
   "mimetype": "text/x-python",
   "name": "python",
   "nbconvert_exporter": "python",
   "pygments_lexer": "ipython3",
   "version": "3.8.5-final"
  }
 },
 "nbformat": 4,
 "nbformat_minor": 2
}
{
 "cells": [
  {
   "cell_type": "markdown",
   "metadata": {},
   "source": [
    "### Chapter 1 - Python Primer - Exercises Reinforcement "
   ]
  },
  {
   "cell_type": "markdown",
   "metadata": {},
   "source": [
    "#### R-1.1"
   ]
  },
  {
   "cell_type": "code",
   "execution_count": 1,
   "metadata": {},
   "outputs": [],
   "source": [
    "def is_multiple(n, m):\n",
    "    return n % m == 0\n",
    "\n",
    "assert is_multiple(10, 5) == True\n",
    "assert is_multiple(5, 10) == False"
   ]
  },
  {
   "cell_type": "markdown",
   "metadata": {},
   "source": [
    "#### R-1.2"
   ]
  },
  {
   "cell_type": "code",
   "execution_count": 2,
   "metadata": {},
   "outputs": [],
   "source": [
    "def is_even(k):\n",
    "    return k % 2 == 0\n",
    "\n",
    "assert is_even(10) == True\n",
    "assert is_even(3) == False"
   ]
  },
  {
   "cell_type": "markdown",
   "metadata": {},
   "source": [
    "#### R-1.3"
   ]
  },
  {
   "cell_type": "code",
   "execution_count": 3,
   "metadata": {},
   "outputs": [],
   "source": [
    "def minmax(data):\n",
    "    smallest, largest = None, None\n",
    "    \n",
    "    for num in data:\n",
    "        if smallest == None and largest == None:\n",
    "            smallest, largest = num, num\n",
    "            continue\n",
    "        if num < smallest:\n",
    "            smallest = num\n",
    "        if num > largest:\n",
    "            largest = num\n",
    "\n",
    "    return (smallest, largest)\n",
    "\n",
    "assert minmax([23,105,51,2,97]) == (2, 105)"
   ]
  },
  {
   "cell_type": "markdown",
   "metadata": {},
   "source": [
    "#### R-1.4"
   ]
  },
  {
   "cell_type": "code",
   "execution_count": 4,
   "metadata": {},
   "outputs": [],
   "source": [
    "def sum_of_squares(n):\n",
    "    squares = []\n",
    "    \n",
    "    for i in range(1,n):\n",
    "        squares.append(i**2)\n",
    "    \n",
    "    return sum(squares)\n",
    "\n",
    "assert sum_of_squares(4) == 14"
   ]
  },
  {
   "cell_type": "markdown",
   "metadata": {},
   "source": [
    "#### R-1.5"
   ]
  },
  {
   "cell_type": "code",
   "execution_count": 5,
   "metadata": {},
   "outputs": [],
   "source": [
    "def sum_of_square_comp(n):\n",
    "    return sum([i**2 for i in range(1,n)])\n",
    "\n",
    "assert sum_of_square_comp(4) == 14"
   ]
  },
  {
   "cell_type": "markdown",
   "metadata": {},
   "source": [
    "#### R-1.6"
   ]
  },
  {
   "cell_type": "code",
   "execution_count": 6,
   "metadata": {},
   "outputs": [],
   "source": [
    "def sum_of_odd_squares(n):\n",
    "    squares = []\n",
    "    \n",
    "    for i in range(1,n):\n",
    "        if i % 2 != 0:\n",
    "            squares.append(i**2)\n",
    "\n",
    "    return sum(squares)\n",
    "\n",
    "assert sum_of_odd_squares(6) == 35"
   ]
  },
  {
   "cell_type": "markdown",
   "metadata": {},
   "source": [
    "#### R-1.7"
   ]
  },
  {
   "cell_type": "code",
   "execution_count": 7,
   "metadata": {},
   "outputs": [],
   "source": [
    "def sum_of_odd_square_comp(n):\n",
    "    return sum([i**2 for i in range(1,n) if i % 2 != 0])\n",
    "\n",
    "assert sum_of_odd_square_comp(6) == 35"
   ]
  },
  {
   "cell_type": "markdown",
   "metadata": {},
   "source": [
    "#### R-1.8"
   ]
  },
  {
   "cell_type": "code",
   "execution_count": 8,
   "metadata": {},
   "outputs": [
    {
     "name": "stdout",
     "output_type": "stream",
     "text": [
      "k\tt\t-10\n",
      "j\tt\t0\n",
      "k\te\t-9\n",
      "j\te\t1\n",
      "k\ts\t-8\n",
      "j\ts\t2\n",
      "k\tt\t-7\n",
      "j\tt\t3\n",
      "k\ts\t-6\n",
      "j\ts\t4\n",
      "k\tt\t-5\n",
      "j\tt\t5\n",
      "k\tr\t-4\n",
      "j\tr\t6\n",
      "k\ti\t-3\n",
      "j\ti\t7\n",
      "k\tn\t-2\n",
      "j\tn\t8\n",
      "k\tg\t-1\n",
      "j\tg\t9\n"
     ]
    }
   ],
   "source": [
    "s = \"teststring\"\n",
    "\n",
    "n = len(s)\n",
    "k = -n\n",
    "j = 0\n",
    "\n",
    "for i in range(0, n):\n",
    "    print(\"k\", s[k], k, sep=\"\\t\")\n",
    "    print(\"j\", s[j], j, sep=\"\\t\")\n",
    "    k += 1\n",
    "    j += 1"
   ]
  },
  {
   "cell_type": "markdown",
   "metadata": {},
   "source": [
    "#### R-1.9"
   ]
  },
  {
   "cell_type": "code",
   "execution_count": 9,
   "metadata": {},
   "outputs": [
    {
     "name": "stdout",
     "output_type": "stream",
     "text": [
      "50 60 70 80\n"
     ]
    }
   ],
   "source": [
    "print(*[i for i in range(50, 90, 10)])"
   ]
  },
  {
   "cell_type": "markdown",
   "metadata": {},
   "source": [
    "#### R-1.10"
   ]
  },
  {
   "cell_type": "code",
   "execution_count": 10,
   "metadata": {},
   "outputs": [
    {
     "name": "stdout",
     "output_type": "stream",
     "text": [
      "8 6 4 2 0 -2 -4 -6 -8\n"
     ]
    }
   ],
   "source": [
    "print(*[i for i in range(8, -10, -2)])"
   ]
  },
  {
   "cell_type": "markdown",
   "metadata": {},
   "source": [
    "#### R-1.11"
   ]
  },
  {
   "cell_type": "code",
   "execution_count": 11,
   "metadata": {},
   "outputs": [
    {
     "name": "stdout",
     "output_type": "stream",
     "text": [
      "2 4 8 16 32 64 128 256 512\n"
     ]
    }
   ],
   "source": [
    "print(*[2**i for i in range(1,10)])"
   ]
  },
  {
   "cell_type": "markdown",
   "metadata": {},
   "source": [
    "#### R-1.12"
   ]
  },
  {
   "cell_type": "code",
   "execution_count": 12,
   "metadata": {},
   "outputs": [],
   "source": [
    "from random import randrange\n",
    "\n",
    "def choice(data):\n",
    "    index = randrange(len(data))\n",
    "    \n",
    "    return data[index]\n",
    "    \n",
    "choice([83, 7, 44, 9, 2])\n",
    "\n",
    "assert choice([83, 7, 44, 9, 2]) in [83, 7, 44, 9, 2]"
   ]
  }
 ],
 "metadata": {
  "kernelspec": {
   "display_name": "Python 3.6.4 32-bit",
   "language": "python",
   "name": "python36432bit1ab04e83ff0a419f815752278ad8527e"
  },
  "language_info": {
   "codemirror_mode": {
    "name": "ipython",
    "version": 3
   },
   "file_extension": ".py",
   "mimetype": "text/x-python",
   "name": "python",
   "nbconvert_exporter": "python",
   "pygments_lexer": "ipython3",
   "version": "3.6.4"
  }
 },
 "nbformat": 4,
 "nbformat_minor": 2
}

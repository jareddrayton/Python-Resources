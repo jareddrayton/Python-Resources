{
 "cells": [
  {
   "cell_type": "markdown",
   "metadata": {},
   "source": [
    "### Chapter 1 - Python Primer - Exercises Projects"
   ]
  },
  {
   "cell_type": "markdown",
   "metadata": {},
   "source": [
    "#### P-1.29"
   ]
  },
  {
   "cell_type": "code",
   "execution_count": 1,
   "metadata": {},
   "outputs": [
    {
     "name": "stdout",
     "output_type": "stream",
     "text": [
      "720\n",
      "720\n"
     ]
    }
   ],
   "source": [
    "# Trivial solution using the itertools function permutations\n",
    "\n",
    "from itertools import permutations\n",
    "\n",
    "list(permutations('catdog', 6))\n",
    "\n",
    "print(len(list(permutations('catdog', 6))))\n",
    "\n",
    "print(6*5*4*3*2*1)\n",
    "\n",
    "# number of permutations is N! "
   ]
  },
  {
   "cell_type": "markdown",
   "metadata": {},
   "source": [
    "#### P-1.30"
   ]
  },
  {
   "cell_type": "code",
   "execution_count": 2,
   "metadata": {},
   "outputs": [],
   "source": [
    "def count(n):\n",
    "    count = 0\n",
    "    while n >= 2:\n",
    "        n = n/2\n",
    "        count += 1\n",
    "    return count\n",
    "\n",
    "assert count(10) == 3"
   ]
  },
  {
   "cell_type": "markdown",
   "metadata": {},
   "source": [
    "#### P-1.31"
   ]
  },
  {
   "cell_type": "code",
   "execution_count": 12,
   "metadata": {},
   "outputs": [
    {
     "output_type": "error",
     "ename": "TypeError",
     "evalue": "__new__() missing 1 required positional argument: 'type'",
     "traceback": [
      "\u001b[0;31m---------------------------------------------------------------------------\u001b[0m",
      "\u001b[0;31mTypeError\u001b[0m                                 Traceback (most recent call last)",
      "\u001b[0;32m<ipython-input-12-11370aa23c19>\u001b[0m in \u001b[0;36m<module>\u001b[0;34m\u001b[0m\n\u001b[1;32m     14\u001b[0m          \u001b[0;34m\"Two Pence Coin\"\u001b[0m\u001b[0;34m,\u001b[0m \u001b[0;36m2\u001b[0m\u001b[0;34m,\u001b[0m \u001b[0;34m\"coin\"\u001b[0m\u001b[0;34m,\u001b[0m\u001b[0;34m\u001b[0m\u001b[0;34m\u001b[0m\u001b[0m\n\u001b[1;32m     15\u001b[0m          \"One Pence Coin\", 1, \"coin\"]\n\u001b[0;32m---> 16\u001b[0;31m \u001b[0ma\u001b[0m \u001b[0;34m=\u001b[0m \u001b[0;34m[\u001b[0m\u001b[0mCurrency\u001b[0m\u001b[0;34m(\u001b[0m\u001b[0mb\u001b[0m\u001b[0;34m)\u001b[0m \u001b[0;32mfor\u001b[0m \u001b[0mb\u001b[0m \u001b[0;32min\u001b[0m \u001b[0mmoney\u001b[0m\u001b[0;34m]\u001b[0m\u001b[0;34m\u001b[0m\u001b[0;34m\u001b[0m\u001b[0m\n\u001b[0m\u001b[1;32m     17\u001b[0m \u001b[0;34m\u001b[0m\u001b[0m\n\u001b[1;32m     18\u001b[0m \u001b[0;34m\u001b[0m\u001b[0m\n",
      "\u001b[0;32m<ipython-input-12-11370aa23c19>\u001b[0m in \u001b[0;36m<listcomp>\u001b[0;34m(.0)\u001b[0m\n\u001b[1;32m     14\u001b[0m          \u001b[0;34m\"Two Pence Coin\"\u001b[0m\u001b[0;34m,\u001b[0m \u001b[0;36m2\u001b[0m\u001b[0;34m,\u001b[0m \u001b[0;34m\"coin\"\u001b[0m\u001b[0;34m,\u001b[0m\u001b[0;34m\u001b[0m\u001b[0;34m\u001b[0m\u001b[0m\n\u001b[1;32m     15\u001b[0m          \"One Pence Coin\", 1, \"coin\"]\n\u001b[0;32m---> 16\u001b[0;31m \u001b[0ma\u001b[0m \u001b[0;34m=\u001b[0m \u001b[0;34m[\u001b[0m\u001b[0mCurrency\u001b[0m\u001b[0;34m(\u001b[0m\u001b[0mb\u001b[0m\u001b[0;34m)\u001b[0m \u001b[0;32mfor\u001b[0m \u001b[0mb\u001b[0m \u001b[0;32min\u001b[0m \u001b[0mmoney\u001b[0m\u001b[0;34m]\u001b[0m\u001b[0;34m\u001b[0m\u001b[0;34m\u001b[0m\u001b[0m\n\u001b[0m\u001b[1;32m     17\u001b[0m \u001b[0;34m\u001b[0m\u001b[0m\n\u001b[1;32m     18\u001b[0m \u001b[0;34m\u001b[0m\u001b[0m\n",
      "\u001b[0;31mTypeError\u001b[0m: __new__() missing 1 required positional argument: 'type'"
     ]
    }
   ],
   "source": [
    "from collections import namedtuple\n",
    "\n",
    "Currency = namedtuple(\"NoteorCoin\", \"value type\")\n",
    "\n",
    "money = [\"Fifty Pound Note\", 5000, \"note\",\n",
    "         \"Twenty Pound Note\", 2000, \"note\",\n",
    "         \"Ten Pound Note\", 1000, \"note\",\n",
    "         \"Five Pound Note\", 500, \"note\",\n",
    "         \"One Pound Coin\", 100, \"coin\",\n",
    "         \"Fifty Pence Coin\", 50, \"coin\",\n",
    "         \"Twenty Pence Coin\", 20, \"coin\",\n",
    "         \"Ten Pence Coin\", 10, \"coin\",\n",
    "         \"Five Pence Coin\", 5, \"coin\",\n",
    "         \"Two Pence Coin\", 2, \"coin\",\n",
    "         \"One Pence Coin\", 1, \"coin\"]\n",
    "a = [Currency(b) for b in money]\n",
    "\n",
    "\n",
    "def make_change(price, cash, pence=False):\n",
    "    \n",
    "    if not pence:\n",
    "        change = round(price * 100 - cash * 100, None)\n",
    "    else:\n",
    "        change = price - cash\n",
    "\n",
    "    \n",
    "    \n",
    "    return change\n",
    "\n",
    "print(make_change(2.34, 1.82))\n",
    "print(make_change(234, 182, pence=True))"
   ]
  },
  {
   "cell_type": "markdown",
   "metadata": {},
   "source": [
    "#### P-1.32"
   ]
  },
  {
   "cell_type": "code",
   "execution_count": null,
   "metadata": {},
   "outputs": [],
   "source": []
  },
  {
   "cell_type": "markdown",
   "metadata": {},
   "source": [
    "#### P-1.33"
   ]
  },
  {
   "cell_type": "code",
   "execution_count": 18,
   "metadata": {},
   "outputs": [
    {
     "output_type": "stream",
     "name": "stdout",
     "text": [
      "2\n",
      "2\n",
      "3\n"
     ]
    }
   ],
   "source": [
    "calculate = \"\"\n",
    "\n",
    "while calculate != \"\":\n",
    "    a = input()\n",
    "    print(a)"
   ]
  },
  {
   "cell_type": "markdown",
   "metadata": {},
   "source": [
    "#### P-1.34"
   ]
  },
  {
   "cell_type": "code",
   "execution_count": 4,
   "metadata": {},
   "outputs": [
    {
     "name": "stdout",
     "output_type": "stream",
     "text": [
      "0 I will never spam my friendsi again.\n",
      "1 Ie will never spam my friends again.\n",
      "2 I will never spami my friends again.\n",
      "3 I will never spam my friends again.o\n",
      "4 I will never spam my friends again.e\n",
      "5 I will never spam my friends again.i\n",
      "6 I will never spam my friends again.o\n",
      "7 I will never spam my friendsi again.\n",
      "8 I will never spam my friendso again.\n",
      "9 I will never spam my friends again.e\n"
     ]
    }
   ],
   "source": [
    "import random\n",
    "\n",
    "s = \"I will never spam my friends again.\"\n",
    "\n",
    "def spelling_error(string):\n",
    "    string = string.split()\n",
    "    word = random.randint(0, len(string) -1)\n",
    "    \n",
    "    string[word] = string[word] + random.choice([\"e\", \"a\", \"i\", \"o\"])\n",
    "    return \" \".join(string)\n",
    "\n",
    "for i in range(10):\n",
    "    print(i, spelling_error(s))"
   ]
  },
  {
   "cell_type": "markdown",
   "metadata": {},
   "source": [
    "#### P-1.35"
   ]
  },
  {
   "cell_type": "code",
   "execution_count": 5,
   "metadata": {},
   "outputs": [
    {
     "name": "stdout",
     "output_type": "stream",
     "text": [
      "20 0.411\n",
      "21 0.445\n",
      "22 0.4762\n",
      "23 0.5062\n",
      "24 0.5426\n",
      "25 0.5604\n",
      "26 0.5992\n",
      "27 0.6338\n",
      "28 0.6538\n",
      "29 0.6816\n"
     ]
    }
   ],
   "source": [
    "# https://en.wikipedia.org/wiki/Birthday_problem\n",
    "\n",
    "import random\n",
    "\n",
    "trials = 5000\n",
    "\n",
    "n = [n for n in range(20,30,1)]\n",
    "\n",
    "def birthday_paradox(people):\n",
    "    birthdays = [random.randint(1,365) for  i in range(people)]\n",
    "    return len(birthdays) != len(set(birthdays))\n",
    "\n",
    "for size in n:\n",
    "    print(size, sum([birthday_paradox(size) for i in range(trials)])/trials )"
   ]
  },
  {
   "cell_type": "markdown",
   "metadata": {},
   "source": [
    "#### P-1.36"
   ]
  },
  {
   "cell_type": "code",
   "execution_count": 6,
   "metadata": {},
   "outputs": [
    {
     "name": "stdout",
     "output_type": "stream",
     "text": [
      "Counter({'she': 2, 'sells': 1, 'shells': 1, 'on': 1, 'the': 1, 'sea': 1, 'floor': 1, 'and': 1})\n"
     ]
    },
    {
     "data": {
      "text/plain": [
       "[('the', 1),\n",
       " ('floor', 1),\n",
       " ('sells', 1),\n",
       " ('and', 1),\n",
       " ('shells', 1),\n",
       " ('she', 2),\n",
       " ('sea', 1),\n",
       " ('on', 1)]"
      ]
     },
     "execution_count": 6,
     "metadata": {},
     "output_type": "execute_result"
    }
   ],
   "source": [
    "# Trivial solution using collections module\n",
    "\n",
    "from collections import Counter\n",
    "\n",
    "print(Counter(\"she sells shells on the sea floor and she\".split()))\n",
    "\n",
    "# More verbose solution \n",
    "\n",
    "a = \"she sells shells on the sea floor and she\"\n",
    "\n",
    "def count_words(string):\n",
    "    string = string.split()\n",
    "    set_words = set(string)\n",
    "    counter = []\n",
    "    \n",
    "    for word in set_words:\n",
    "        counter.append((word, string.count(word)))\n",
    "    \n",
    "    return counter\n",
    "    \n",
    "count_words(a)"
   ]
  }
 ],
 "metadata": {
  "kernelspec": {
   "name": "Python 3.8.5 64-bit",
   "display_name": "Python 3.8.5 64-bit",
   "metadata": {
    "interpreter": {
     "hash": "31f2aee4e71d21fbe5cf8b01ff0e069b9275f58929596ceb00d14d90e3e16cd6"
    }
   }
  },
  "language_info": {
   "codemirror_mode": {
    "name": "ipython",
    "version": 3
   },
   "file_extension": ".py",
   "mimetype": "text/x-python",
   "name": "python",
   "nbconvert_exporter": "python",
   "pygments_lexer": "ipython3",
   "version": "3.8.5-final"
  }
 },
 "nbformat": 4,
 "nbformat_minor": 2
}
{
 "cells": [
  {
   "cell_type": "code",
   "execution_count": 7,
   "metadata": {},
   "outputs": [
    {
     "name": "stdout",
     "output_type": "stream",
     "text": "(3, 7)\n(6, 4)\n(12, -2)\n\n(3, 7)\n(6, 4)\n(12, -2)\n"
    }
   ],
   "source": [
    "# https://interviewing.io/recordings/Python-Airbnb-1/\n",
    "\n",
    "import itertools\n",
    "\n",
    "# https://docs.python.org/3.8/library/itertools.html#itertools.combinations\n",
    "\n",
    "test = [1, 3, 2, 5, 46, 6, 7, 4, 12 , -2]\n",
    "\n",
    "#print(list(itertools.combinations(test,2)))\n",
    "\n",
    "def unique_pairs_itertools(int_array, k):\n",
    "    \n",
    "    #int_array = [n for n in int_array if n < k] # only if input contains positive integers\n",
    "    \n",
    "    for a,b in itertools.combinations(int_array, 2):\n",
    "        if a + b == k:\n",
    "            print((a,b))\n",
    "    \n",
    "    return int_array\n",
    "\n",
    "unique_pairs_itertools(test, 10)\n",
    "\n",
    "print()\n",
    "\n",
    "def unique_pairs_set(int_array, k):\n",
    "    \n",
    "    int_array_set = set(int_array)\n",
    "    \n",
    "    for n in int_array:\n",
    "        if k - n in int_array_set and k-n != n:\n",
    "            print((n, k-n))\n",
    "            int_array_set.remove(n)\n",
    "            \n",
    "unique_pairs_set(test, 10)\n",
    "\n",
    "test2 = []\n",
    "\n",
    "unique_pairs_itertools(test2, 4)\n",
    "unique_pairs_set(test2, 4)"
   ]
  }
 ],
 "metadata": {
  "kernelspec": {
   "display_name": "Python 3",
   "language": "python",
   "name": "python3"
  },
  "language_info": {
   "codemirror_mode": {
    "name": "ipython",
    "version": 3
   },
   "file_extension": ".py",
   "mimetype": "text/x-python",
   "name": "python",
   "nbconvert_exporter": "python",
   "pygments_lexer": "ipython3",
   "version": "3.6.4-final"
  }
 },
 "nbformat": 4,
 "nbformat_minor": 2
}